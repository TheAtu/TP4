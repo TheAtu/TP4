{
 "cells": [
  {
   "cell_type": "code",
   "execution_count": null,
   "metadata": {},
   "outputs": [],
   "source": [
    "a = [0,1,2,3,4,5,6]\n",
    "b = [1,2,3,4,5,6,7]\n",
    "c = [0,1,2,3,4,5,6]\n",
    "outliers = ['a','b','c']\n",
    "\n",
    "d = pd.DataFrame({'a':a,'b':b,'c':c})\n",
    "qs = d.quantile(.25)\n",
    "for i in range(0,len(qs)):\n",
    "  col = outliers[i]\n",
    "  q = qs[i]\n",
    "  outlier_rows = (d[col] <= q)\n",
    "  print(outlier_rows)\n",
    "  d = d[~outlier_rows]\n",
    "  print(d)\n",
    "  print()\n",
    "qs"
   ]
  }
 ],
 "metadata": {
  "kernelspec": {
   "display_name": "Python 3.9.13 64-bit ('pyEnv-Tmp')",
   "language": "python",
   "name": "python3"
  },
  "language_info": {
   "name": "python",
   "version": "3.9.13"
  },
  "orig_nbformat": 4,
  "vscode": {
   "interpreter": {
    "hash": "c624079bdbcdf559a5caa27822ba1284677e01b949e217d00eab1893de7b1b76"
   }
  }
 },
 "nbformat": 4,
 "nbformat_minor": 2
}
